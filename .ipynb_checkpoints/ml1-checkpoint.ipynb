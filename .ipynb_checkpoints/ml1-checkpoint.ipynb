{
 "cells": [
  {
   "cell_type": "markdown",
   "metadata": {},
   "source": [
    "# My First Neural Network"
   ]
  },
  {
   "cell_type": "markdown",
   "metadata": {},
   "source": [
    "### Single Feature Single Output Neural Net"
   ]
  },
  {
   "cell_type": "code",
   "execution_count": 14,
   "metadata": {},
   "outputs": [],
   "source": [
    "## Define the neural network\n",
    "\n",
    "weight = 0.1\n",
    "def neural_net(input, weight):\n",
    "    prediction = input*weight\n",
    "    return(prediction)"
   ]
  },
  {
   "cell_type": "code",
   "execution_count": 16,
   "metadata": {},
   "outputs": [
    {
     "name": "stdout",
     "output_type": "stream",
     "text": [
      "0.86\n",
      "0.34\n",
      "0.67\n",
      "0.4\n"
     ]
    }
   ],
   "source": [
    "## Define input data\n",
    "\n",
    "toes = [8.6, 3.4, 6.7, 4]\n",
    "for i in range(0,len(toes)):\n",
    "    pred = neural_net(toes[i],weight)\n",
    "    print(pred)"
   ]
  },
  {
   "cell_type": "markdown",
   "metadata": {},
   "source": [
    "### Multiple Features Single Output Neural Net"
   ]
  },
  {
   "cell_type": "code",
   "execution_count": 38,
   "metadata": {},
   "outputs": [],
   "source": [
    "## Define neural net and weights\n",
    "\n",
    "weights = [0.1, 0.2, 0]\n",
    "def neural_net(input, weights):\n",
    "    prediction = weighted_sum(input,weights)\n",
    "    return(prediction)"
   ]
  },
  {
   "cell_type": "code",
   "execution_count": 39,
   "metadata": {},
   "outputs": [],
   "source": [
    "## Define weighted sum function/dot product\n",
    "\n",
    "def weighted_sum(input, weights):\n",
    "    assert(len(input)==len(weights))\n",
    "    sum=0\n",
    "    for i in range(0,len(input)):\n",
    "        sum += (input[i]*weights[i])\n",
    "    return(sum)"
   ]
  },
  {
   "cell_type": "code",
   "execution_count": 40,
   "metadata": {},
   "outputs": [
    {
     "name": "stdout",
     "output_type": "stream",
     "text": [
      "0.9800000000000001\n",
      "1.11\n",
      "1.1500000000000001\n",
      "1.08\n"
     ]
    }
   ],
   "source": [
    "## Define input data (3 features)\n",
    "\n",
    "toes = [8.5, 9.5, 9.9, 9.0]\n",
    "wlrec = [0.65,0.8,0.8,0.9]\n",
    "nfans = [1.2, 1.3, 0.5, 1.0]\n",
    "\n",
    "for i in range(0,len(toes)):\n",
    "    pred = neural_net([toes[i],wlrec[i],nfans[i]],weights)\n",
    "    print(pred)"
   ]
  },
  {
   "cell_type": "markdown",
   "metadata": {},
   "source": [
    "## Numpy: Multiple Features Single Output Neural Net"
   ]
  },
  {
   "cell_type": "code",
   "execution_count": 1,
   "metadata": {},
   "outputs": [],
   "source": [
    "## Define neural net and weights\n",
    "import numpy as np\n",
    "\n",
    "weights = [0.1, 0.2, 0]\n",
    "def neural_net(input, weights):\n",
    "    prediction = np.dot(input,weights)\n",
    "    return(prediction)"
   ]
  },
  {
   "cell_type": "code",
   "execution_count": 2,
   "metadata": {},
   "outputs": [
    {
     "name": "stdout",
     "output_type": "stream",
     "text": [
      "0.9800000000000001\n",
      "1.11\n",
      "1.1500000000000001\n",
      "1.08\n"
     ]
    }
   ],
   "source": [
    "## Define input data (3 features)\n",
    "\n",
    "toes = np.array([8.5, 9.5, 9.9, 9.0])\n",
    "wlrec = np.array([0.65,0.8,0.8,0.9])\n",
    "nfans = np.array([1.2, 1.3, 0.5, 1.0])\n",
    "\n",
    "for i in range(0,len(toes)):\n",
    "    pred = neural_net([toes[i],wlrec[i],nfans[i]],weights)\n",
    "    print(pred)"
   ]
  },
  {
   "cell_type": "markdown",
   "metadata": {},
   "source": [
    "## Single Feature Multiple Output Neural Net"
   ]
  },
  {
   "cell_type": "code",
   "execution_count": 4,
   "metadata": {},
   "outputs": [],
   "source": [
    "## Define neural net and weights\n",
    "import numpy as np\n",
    "\n",
    "weights = [0.3, 0.2, 0.9]\n",
    "def neural_net(input, weights):\n",
    "    prediction = elmul(input,weights)\n",
    "    return(prediction)"
   ]
  },
  {
   "cell_type": "code",
   "execution_count": 17,
   "metadata": {},
   "outputs": [],
   "source": [
    "## Define element-wise multi\n",
    "\n",
    "def elmul(input, weights):\n",
    "    output = [0,0,0]\n",
    "    assert(len(weights)==len(output))\n",
    "    \n",
    "    for i in range(0,len(weights)):\n",
    "        output[i] = input*weights[i]\n",
    "    return(output)"
   ]
  },
  {
   "cell_type": "code",
   "execution_count": 18,
   "metadata": {},
   "outputs": [
    {
     "name": "stdout",
     "output_type": "stream",
     "text": [
      "HURT, WIN, SAD\n",
      "[0.195, 0.13, 0.5850000000000001]\n",
      "[0.24, 0.16000000000000003, 0.7200000000000001]\n",
      "[0.24, 0.16000000000000003, 0.7200000000000001]\n",
      "[0.27, 0.18000000000000002, 0.81]\n"
     ]
    }
   ],
   "source": [
    "## Define input data (1 feature)\n",
    "\n",
    "wlrec = [0.65,0.8,0.8,0.9]\n",
    "print(\"HURT, WIN, SAD\")\n",
    "for i in range(0,len(wlrec)):\n",
    "    pred = neural_net(wlrec[i],weights)\n",
    "    print(pred)"
   ]
  },
  {
   "cell_type": "markdown",
   "metadata": {},
   "source": [
    "## Multiple Feature Multiple Output Neural Net"
   ]
  },
  {
   "cell_type": "code",
   "execution_count": 37,
   "metadata": {},
   "outputs": [],
   "source": [
    "## Define neural net and weights  (3 features)\n",
    "\n",
    "weights = [[0.1, 0.1, -0.3],  ## Hurt\n",
    "           [0.1, 0.2, 0.0],   ## Win\n",
    "           [0.0, 1.3, 0.1]]   ## Sad\n",
    "\n",
    "def neural_net(input, weights):\n",
    "    prediction = vect_matmul(input,weights)\n",
    "    return(prediction)"
   ]
  },
  {
   "cell_type": "code",
   "execution_count": 45,
   "metadata": {},
   "outputs": [],
   "source": [
    "## Define weighted sum function/dot product\n",
    "\n",
    "def weighted_sum(input, weights):\n",
    "    assert(len(input)==len(weights))\n",
    "    sum=0\n",
    "    for i in range(0,len(input)):\n",
    "        sum += (input[i]*weights[i])\n",
    "    return(sum)"
   ]
  },
  {
   "cell_type": "code",
   "execution_count": 51,
   "metadata": {},
   "outputs": [],
   "source": [
    "## Define vector matrix multiplication\n",
    "\n",
    "def vect_matmul(input, weights):\n",
    "    output = [0,\n",
    "              0,\n",
    "              0]\n",
    "    \n",
    "    assert(len(weights)==len(input))\n",
    "    \n",
    "    for i in range(0,len(weights)):\n",
    "        output[i] = weighted_sum(input,weights[i])\n",
    "    return(output)"
   ]
  },
  {
   "cell_type": "code",
   "execution_count": 52,
   "metadata": {},
   "outputs": [
    {
     "name": "stdout",
     "output_type": "stream",
     "text": [
      "HURT, WIN, SAD\n",
      "[0.555, 0.9800000000000001, 0.9650000000000001]\n",
      "[0.64, 1.11, 1.17]\n",
      "[0.92, 1.1500000000000001, 1.09]\n",
      "[0.69, 1.08, 1.2700000000000002]\n"
     ]
    }
   ],
   "source": [
    "## Define input data (2 features)\n",
    "\n",
    "toes = [8.5, 9.5, 9.9, 9.0]\n",
    "wlrec = [0.65,0.8,0.8,0.9]\n",
    "nfans = [1.2, 1.3, 0.5, 1.0]\n",
    "print(\"HURT, WIN, SAD\")\n",
    "for i in range(0,len(wlrec)):\n",
    "    pred = neural_net([toes[i],wlrec[i],nfans[i]],weights)\n",
    "    print(pred)"
   ]
  },
  {
   "cell_type": "markdown",
   "metadata": {},
   "source": [
    "## Stacked Multiple Feature Multiple Output Neural Net"
   ]
  },
  {
   "cell_type": "code",
   "execution_count": 9,
   "metadata": {},
   "outputs": [],
   "source": [
    "## Define neural net and weights  (3 features)\n",
    "\n",
    "## Hidden layer 1\n",
    "h1_w = [[0.1, 0.2, -0.1],  ## neuron1\n",
    "        [-0.1, 0.1, 0.9],  ## neuron2\n",
    "        [0.1, 0.4, 0.1]]   ## neuron3\n",
    "\n",
    "## Output layer\n",
    "out_w = [[0.3, 1.1, -0.3],  ## Hurt\n",
    "         [0.1, 0.2, 0.0],   ## Win\n",
    "         [0.0, 1.3, 0.1]]   ## Sad\n",
    "weights=[h1_w,out_w]\n",
    "\n",
    "def neural_net(input, weights):\n",
    "    hidden = vect_matmul(input,weights[0])\n",
    "    prediction = vect_matmul(hidden,weights[1])\n",
    "    return(prediction)"
   ]
  },
  {
   "cell_type": "code",
   "execution_count": 10,
   "metadata": {},
   "outputs": [],
   "source": [
    "## Define weighted sum function/dot product\n",
    "\n",
    "def weighted_sum(input, weights):\n",
    "    assert(len(input)==len(weights))\n",
    "    sum=0\n",
    "    for i in range(0,len(input)):\n",
    "        sum += (input[i]*weights[i])\n",
    "    return(sum)"
   ]
  },
  {
   "cell_type": "code",
   "execution_count": 11,
   "metadata": {},
   "outputs": [],
   "source": [
    "## Define vector matrix multiplication\n",
    "\n",
    "def vect_matmul(input, weights):\n",
    "    output = [0,\n",
    "              0,\n",
    "              0]\n",
    "    \n",
    "    assert(len(weights)==len(input))\n",
    "    \n",
    "    for i in range(0,len(weights)):\n",
    "        output[i] = weighted_sum(input,weights[i])\n",
    "    return(output)"
   ]
  },
  {
   "cell_type": "code",
   "execution_count": 12,
   "metadata": {},
   "outputs": [
    {
     "name": "stdout",
     "output_type": "stream",
     "text": [
      "HURT, WIN, SAD\n",
      "[0.21350000000000002, 0.14500000000000002, 0.5065]\n",
      "[0.20400000000000013, 0.15800000000000003, 0.53]\n",
      "[-0.5840000000000003, 0.017999999999999988, -0.4620000000000002]\n",
      "[-0.015000000000000013, 0.11600000000000002, 0.253]\n"
     ]
    }
   ],
   "source": [
    "## Define input data (2 features)\n",
    "\n",
    "toes = [8.5, 9.5, 9.9, 9.0]\n",
    "wlrec = [0.65,0.8,0.8,0.9]\n",
    "nfans = [1.2, 1.3, 0.5, 1.0]\n",
    "print(\"HURT, WIN, SAD\")\n",
    "for i in range(0,len(wlrec)):\n",
    "    pred = neural_net([toes[i],wlrec[i],nfans[i]],weights)\n",
    "    print(pred)"
   ]
  },
  {
   "cell_type": "markdown",
   "metadata": {},
   "source": [
    "## Numpy: Stacked Multiple Feature Multiple Output Neural Net"
   ]
  },
  {
   "cell_type": "code",
   "execution_count": 29,
   "metadata": {},
   "outputs": [],
   "source": [
    "## Define neural net and weights  (3 features)\n",
    "import numpy as np\n",
    "\n",
    "## Hidden layer 1\n",
    "h1_w = np.array([[0.1, 0.2, -0.1],  ## neuron1\n",
    "                [-0.1, 0.1, 0.9],   ## neuron2\n",
    "                [0.1, 0.4, 0.1]]).T   ## neuron3    <<----Transpose the matrix\n",
    "\n",
    "## Output layer\n",
    "out_w = np.array([[0.3, 1.1, -0.3], ## Hurt\n",
    "                 [0.1, 0.2, 0.0],   ## Win\n",
    "                 [0.0, 1.3, 0.1]]).T  ## Sad       <<---Transpose the matrix\n",
    "weights=[h1_w,out_w]\n",
    "\n",
    "def neural_net(input, weights):\n",
    "    hidden = np.dot(input,weights[0])\n",
    "    prediction = np.dot(hidden,weights[1])\n",
    "    return(prediction)"
   ]
  },
  {
   "cell_type": "code",
   "execution_count": 30,
   "metadata": {},
   "outputs": [
    {
     "name": "stdout",
     "output_type": "stream",
     "text": [
      "HURT, WIN, SAD\n",
      "[0.2135 0.145  0.5065]\n",
      "[0.204 0.158 0.53 ]\n",
      "[-0.584  0.018 -0.462]\n",
      "[-0.015  0.116  0.253]\n"
     ]
    }
   ],
   "source": [
    "## Define input data (2 features)\n",
    "\n",
    "toes = np.array([8.5, 9.5, 9.9, 9.0])\n",
    "wlrec = np.array([0.65,0.8,0.8,0.9])\n",
    "nfans = np.array([1.2, 1.3, 0.5, 1.0])\n",
    "print(\"HURT, WIN, SAD\")\n",
    "for i in range(0,len(wlrec)):\n",
    "    pred = neural_net([toes[i],wlrec[i],nfans[i]],weights)\n",
    "    print(pred)"
   ]
  },
  {
   "cell_type": "code",
   "execution_count": null,
   "metadata": {},
   "outputs": [],
   "source": []
  },
  {
   "cell_type": "code",
   "execution_count": null,
   "metadata": {},
   "outputs": [],
   "source": []
  }
 ],
 "metadata": {
  "kernelspec": {
   "display_name": "Python 3",
   "language": "python",
   "name": "python3"
  },
  "language_info": {
   "codemirror_mode": {
    "name": "ipython",
    "version": 3
   },
   "file_extension": ".py",
   "mimetype": "text/x-python",
   "name": "python",
   "nbconvert_exporter": "python",
   "pygments_lexer": "ipython3",
   "version": "3.6.9"
  }
 },
 "nbformat": 4,
 "nbformat_minor": 4
}
