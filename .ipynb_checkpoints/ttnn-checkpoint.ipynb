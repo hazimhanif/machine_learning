{
 "cells": [
  {
   "cell_type": "markdown",
   "metadata": {},
   "source": [
    "# Truth Table Neural Net"
   ]
  },
  {
   "cell_type": "code",
   "execution_count": 1,
   "metadata": {},
   "outputs": [],
   "source": [
    "## Import package\n",
    "\n",
    "import tensorflow as tf"
   ]
  },
  {
   "cell_type": "code",
   "execution_count": 111,
   "metadata": {},
   "outputs": [
    {
     "data": {
      "text/plain": [
       "[[False, True], [True, True], [False, True], [True, True]]"
      ]
     },
     "execution_count": 111,
     "metadata": {},
     "output_type": "execute_result"
    }
   ],
   "source": [
    "[[False,True],[True,True]]*2"
   ]
  },
  {
   "cell_type": "code",
   "execution_count": 159,
   "metadata": {},
   "outputs": [],
   "source": [
    "## Define data\n",
    "\n",
    "x = [[False,False],[False,True],[True,False],[True,True]]*250\n",
    "y = [False,True,True,False]*250"
   ]
  },
  {
   "cell_type": "code",
   "execution_count": 160,
   "metadata": {},
   "outputs": [
    {
     "name": "stdout",
     "output_type": "stream",
     "text": [
      "tf.Tensor(\n",
      "[[[1. 0.]\n",
      "  [1. 0.]]\n",
      "\n",
      " [[1. 0.]\n",
      "  [0. 1.]]\n",
      "\n",
      " [[0. 1.]\n",
      "  [1. 0.]]\n",
      "\n",
      " ...\n",
      "\n",
      " [[1. 0.]\n",
      "  [0. 1.]]\n",
      "\n",
      " [[0. 1.]\n",
      "  [1. 0.]]\n",
      "\n",
      " [[0. 1.]\n",
      "  [0. 1.]]], shape=(1000, 2, 2), dtype=float32) \n",
      "\n",
      "tf.Tensor(\n",
      "[[1. 0.]\n",
      " [0. 1.]\n",
      " [0. 1.]\n",
      " ...\n",
      " [0. 1.]\n",
      " [0. 1.]\n",
      " [1. 0.]], shape=(1000, 2), dtype=float32)\n"
     ]
    }
   ],
   "source": [
    "## OHE the data\n",
    "\n",
    "x_OHE = tf.keras.backend.one_hot(x, num_classes=2)\n",
    "print(x_OHE,'\\n')\n",
    "y_OHE = tf.keras.backend.one_hot(y, num_classes=2)\n",
    "print(y_OHE)"
   ]
  },
  {
   "cell_type": "code",
   "execution_count": 161,
   "metadata": {},
   "outputs": [
    {
     "name": "stdout",
     "output_type": "stream",
     "text": [
      "Model: \"sequential_64\"\n",
      "_________________________________________________________________\n",
      "Layer (type)                 Output Shape              Param #   \n",
      "=================================================================\n",
      "dense_174 (Dense)            (None, 2, 10)             30        \n",
      "_________________________________________________________________\n",
      "dense_175 (Dense)            (None, 2, 5)              55        \n",
      "_________________________________________________________________\n",
      "dense_176 (Dense)            (None, 2, 2)              12        \n",
      "_________________________________________________________________\n",
      "dense_177 (Dense)            (None, 2, 1)              3         \n",
      "=================================================================\n",
      "Total params: 100\n",
      "Trainable params: 100\n",
      "Non-trainable params: 0\n",
      "_________________________________________________________________\n"
     ]
    }
   ],
   "source": [
    "## Define model\n",
    "\n",
    "model = tf.keras.models.Sequential()\n",
    "model.add(tf.keras.layers.Dense(10, input_shape=(2,2), activation='relu'))\n",
    "model.add(tf.keras.layers.Dense(5, activation='relu'))\n",
    "model.add(tf.keras.layers.Dense(2, activation='relu'))\n",
    "model.add(tf.keras.layers.Dense(1, activation = 'sigmoid'))\n",
    "\n",
    "sgd = tf.keras.optimizers.SGD(lr=0.01)\n",
    "\n",
    "## Compile model with metrics\n",
    "model.compile(optimizer=sgd, loss='binary_crossentropy', metrics=['accuracy'])\n",
    "model.summary()\n"
   ]
  },
  {
   "cell_type": "code",
   "execution_count": 162,
   "metadata": {},
   "outputs": [
    {
     "name": "stdout",
     "output_type": "stream",
     "text": [
      "Train on 1000 samples\n",
      "Epoch 1/100\n",
      "1000/1000 - 0s - loss: 0.6935 - accuracy: 0.5000\n",
      "Epoch 2/100\n",
      "1000/1000 - 0s - loss: 0.6933 - accuracy: 0.5000\n",
      "Epoch 3/100\n",
      "1000/1000 - 0s - loss: 0.6933 - accuracy: 0.5000\n",
      "Epoch 4/100\n",
      "1000/1000 - 0s - loss: 0.6932 - accuracy: 0.5030\n",
      "Epoch 5/100\n",
      "1000/1000 - 0s - loss: 0.6932 - accuracy: 0.5000\n",
      "Epoch 6/100\n",
      "1000/1000 - 0s - loss: 0.6932 - accuracy: 0.5000\n",
      "Epoch 7/100\n",
      "1000/1000 - 0s - loss: 0.6932 - accuracy: 0.5000\n",
      "Epoch 8/100\n",
      "1000/1000 - 0s - loss: 0.6932 - accuracy: 0.5000\n",
      "Epoch 9/100\n",
      "1000/1000 - 0s - loss: 0.6932 - accuracy: 0.5000\n",
      "Epoch 10/100\n",
      "1000/1000 - 0s - loss: 0.6932 - accuracy: 0.5000\n",
      "Epoch 11/100\n",
      "1000/1000 - 0s - loss: 0.6932 - accuracy: 0.5000\n",
      "Epoch 12/100\n",
      "1000/1000 - 0s - loss: 0.6932 - accuracy: 0.5000\n",
      "Epoch 13/100\n",
      "1000/1000 - 0s - loss: 0.6932 - accuracy: 0.5000\n",
      "Epoch 14/100\n",
      "1000/1000 - 0s - loss: 0.6932 - accuracy: 0.5000\n",
      "Epoch 15/100\n",
      "1000/1000 - 0s - loss: 0.6932 - accuracy: 0.5000\n",
      "Epoch 16/100\n",
      "1000/1000 - 0s - loss: 0.6932 - accuracy: 0.5000\n",
      "Epoch 17/100\n",
      "1000/1000 - 0s - loss: 0.6932 - accuracy: 0.5000\n",
      "Epoch 18/100\n",
      "1000/1000 - 0s - loss: 0.6932 - accuracy: 0.5000\n",
      "Epoch 19/100\n",
      "1000/1000 - 0s - loss: 0.6932 - accuracy: 0.5000\n",
      "Epoch 20/100\n",
      "1000/1000 - 0s - loss: 0.6932 - accuracy: 0.5000\n",
      "Epoch 21/100\n",
      "1000/1000 - 0s - loss: 0.6932 - accuracy: 0.5000\n",
      "Epoch 22/100\n",
      "1000/1000 - 0s - loss: 0.6932 - accuracy: 0.5000\n",
      "Epoch 23/100\n",
      "1000/1000 - 0s - loss: 0.6932 - accuracy: 0.5000\n",
      "Epoch 24/100\n",
      "1000/1000 - 0s - loss: 0.6932 - accuracy: 0.5000\n",
      "Epoch 25/100\n",
      "1000/1000 - 0s - loss: 0.6932 - accuracy: 0.5000\n",
      "Epoch 26/100\n",
      "1000/1000 - 0s - loss: 0.6932 - accuracy: 0.5000\n",
      "Epoch 27/100\n",
      "1000/1000 - 0s - loss: 0.6932 - accuracy: 0.5000\n",
      "Epoch 28/100\n",
      "1000/1000 - 0s - loss: 0.6932 - accuracy: 0.5000\n",
      "Epoch 29/100\n",
      "1000/1000 - 0s - loss: 0.6932 - accuracy: 0.5000\n",
      "Epoch 30/100\n",
      "1000/1000 - 0s - loss: 0.6932 - accuracy: 0.5000\n",
      "Epoch 31/100\n",
      "1000/1000 - 0s - loss: 0.6932 - accuracy: 0.5000\n",
      "Epoch 32/100\n",
      "1000/1000 - 0s - loss: 0.6932 - accuracy: 0.5000\n",
      "Epoch 33/100\n",
      "1000/1000 - 0s - loss: 0.6932 - accuracy: 0.5000\n",
      "Epoch 34/100\n",
      "1000/1000 - 0s - loss: 0.6932 - accuracy: 0.5000\n",
      "Epoch 35/100\n",
      "1000/1000 - 0s - loss: 0.6932 - accuracy: 0.5000\n",
      "Epoch 36/100\n",
      "1000/1000 - 0s - loss: 0.6932 - accuracy: 0.5000\n",
      "Epoch 37/100\n",
      "1000/1000 - 0s - loss: 0.6932 - accuracy: 0.5000\n",
      "Epoch 38/100\n",
      "1000/1000 - 0s - loss: 0.6932 - accuracy: 0.5000\n",
      "Epoch 39/100\n",
      "1000/1000 - 0s - loss: 0.6932 - accuracy: 0.5000\n",
      "Epoch 40/100\n",
      "1000/1000 - 0s - loss: 0.6932 - accuracy: 0.5000\n",
      "Epoch 41/100\n",
      "1000/1000 - 0s - loss: 0.6932 - accuracy: 0.5000\n",
      "Epoch 42/100\n",
      "1000/1000 - 0s - loss: 0.6932 - accuracy: 0.5000\n",
      "Epoch 43/100\n",
      "1000/1000 - 0s - loss: 0.6932 - accuracy: 0.5000\n",
      "Epoch 44/100\n",
      "1000/1000 - 0s - loss: 0.6932 - accuracy: 0.5000\n",
      "Epoch 45/100\n",
      "1000/1000 - 0s - loss: 0.6932 - accuracy: 0.5000\n",
      "Epoch 46/100\n",
      "1000/1000 - 0s - loss: 0.6932 - accuracy: 0.5000\n",
      "Epoch 47/100\n",
      "1000/1000 - 0s - loss: 0.6932 - accuracy: 0.5000\n",
      "Epoch 48/100\n",
      "1000/1000 - 0s - loss: 0.6932 - accuracy: 0.5000\n",
      "Epoch 49/100\n",
      "1000/1000 - 0s - loss: 0.6932 - accuracy: 0.5000\n",
      "Epoch 50/100\n",
      "1000/1000 - 0s - loss: 0.6932 - accuracy: 0.5000\n",
      "Epoch 51/100\n",
      "1000/1000 - 0s - loss: 0.6932 - accuracy: 0.5000\n",
      "Epoch 52/100\n",
      "1000/1000 - 0s - loss: 0.6932 - accuracy: 0.5000\n",
      "Epoch 53/100\n",
      "1000/1000 - 0s - loss: 0.6932 - accuracy: 0.5000\n",
      "Epoch 54/100\n",
      "1000/1000 - 0s - loss: 0.6932 - accuracy: 0.5000\n",
      "Epoch 55/100\n",
      "1000/1000 - 0s - loss: 0.6932 - accuracy: 0.5000\n",
      "Epoch 56/100\n",
      "1000/1000 - 0s - loss: 0.6932 - accuracy: 0.5000\n",
      "Epoch 57/100\n",
      "1000/1000 - 0s - loss: 0.6932 - accuracy: 0.5000\n",
      "Epoch 58/100\n",
      "1000/1000 - 0s - loss: 0.6932 - accuracy: 0.5000\n",
      "Epoch 59/100\n",
      "1000/1000 - 0s - loss: 0.6932 - accuracy: 0.5000\n",
      "Epoch 60/100\n",
      "1000/1000 - 0s - loss: 0.6932 - accuracy: 0.5000\n",
      "Epoch 61/100\n",
      "1000/1000 - 0s - loss: 0.6932 - accuracy: 0.5000\n",
      "Epoch 62/100\n",
      "1000/1000 - 0s - loss: 0.6932 - accuracy: 0.5000\n",
      "Epoch 63/100\n",
      "1000/1000 - 0s - loss: 0.6932 - accuracy: 0.5000\n",
      "Epoch 64/100\n",
      "1000/1000 - 0s - loss: 0.6932 - accuracy: 0.5000\n",
      "Epoch 65/100\n",
      "1000/1000 - 0s - loss: 0.6932 - accuracy: 0.5000\n",
      "Epoch 66/100\n",
      "1000/1000 - 0s - loss: 0.6932 - accuracy: 0.5000\n",
      "Epoch 67/100\n",
      "1000/1000 - 0s - loss: 0.6932 - accuracy: 0.5000\n",
      "Epoch 68/100\n",
      "1000/1000 - 0s - loss: 0.6932 - accuracy: 0.5000\n",
      "Epoch 69/100\n",
      "1000/1000 - 0s - loss: 0.6932 - accuracy: 0.5000\n",
      "Epoch 70/100\n",
      "1000/1000 - 0s - loss: 0.6932 - accuracy: 0.5000\n",
      "Epoch 71/100\n",
      "1000/1000 - 0s - loss: 0.6932 - accuracy: 0.5000\n",
      "Epoch 72/100\n",
      "1000/1000 - 0s - loss: 0.6932 - accuracy: 0.5000\n",
      "Epoch 73/100\n",
      "1000/1000 - 0s - loss: 0.6932 - accuracy: 0.5000\n",
      "Epoch 74/100\n",
      "1000/1000 - 0s - loss: 0.6932 - accuracy: 0.5000\n",
      "Epoch 75/100\n",
      "1000/1000 - 0s - loss: 0.6932 - accuracy: 0.5000\n",
      "Epoch 76/100\n",
      "1000/1000 - 0s - loss: 0.6932 - accuracy: 0.5000\n",
      "Epoch 77/100\n",
      "1000/1000 - 0s - loss: 0.6932 - accuracy: 0.5000\n",
      "Epoch 78/100\n",
      "1000/1000 - 0s - loss: 0.6932 - accuracy: 0.5000\n",
      "Epoch 79/100\n",
      "1000/1000 - 0s - loss: 0.6932 - accuracy: 0.5000\n",
      "Epoch 80/100\n",
      "1000/1000 - 0s - loss: 0.6932 - accuracy: 0.5000\n",
      "Epoch 81/100\n",
      "1000/1000 - 0s - loss: 0.6932 - accuracy: 0.5000\n",
      "Epoch 82/100\n",
      "1000/1000 - 0s - loss: 0.6932 - accuracy: 0.5000\n",
      "Epoch 83/100\n",
      "1000/1000 - 0s - loss: 0.6932 - accuracy: 0.5000\n",
      "Epoch 84/100\n",
      "1000/1000 - 0s - loss: 0.6932 - accuracy: 0.5000\n",
      "Epoch 85/100\n",
      "1000/1000 - 0s - loss: 0.6932 - accuracy: 0.5000\n",
      "Epoch 86/100\n",
      "1000/1000 - 0s - loss: 0.6932 - accuracy: 0.5000\n",
      "Epoch 87/100\n",
      "1000/1000 - 0s - loss: 0.6932 - accuracy: 0.5000\n",
      "Epoch 88/100\n",
      "1000/1000 - 0s - loss: 0.6932 - accuracy: 0.5000\n",
      "Epoch 89/100\n",
      "1000/1000 - 0s - loss: 0.6932 - accuracy: 0.5000\n",
      "Epoch 90/100\n",
      "1000/1000 - 0s - loss: 0.6932 - accuracy: 0.5000\n",
      "Epoch 91/100\n",
      "1000/1000 - 0s - loss: 0.6932 - accuracy: 0.5000\n",
      "Epoch 92/100\n",
      "1000/1000 - 0s - loss: 0.6932 - accuracy: 0.5000\n",
      "Epoch 93/100\n",
      "1000/1000 - 0s - loss: 0.6932 - accuracy: 0.5000\n",
      "Epoch 94/100\n",
      "1000/1000 - 0s - loss: 0.6932 - accuracy: 0.5000\n",
      "Epoch 95/100\n",
      "1000/1000 - 0s - loss: 0.6932 - accuracy: 0.5000\n",
      "Epoch 96/100\n",
      "1000/1000 - 0s - loss: 0.6932 - accuracy: 0.5000\n",
      "Epoch 97/100\n",
      "1000/1000 - 0s - loss: 0.6932 - accuracy: 0.5000\n",
      "Epoch 98/100\n",
      "1000/1000 - 0s - loss: 0.6932 - accuracy: 0.5000\n",
      "Epoch 99/100\n",
      "1000/1000 - 0s - loss: 0.6932 - accuracy: 0.5000\n",
      "Epoch 100/100\n",
      "1000/1000 - 0s - loss: 0.6932 - accuracy: 0.5000\n"
     ]
    },
    {
     "data": {
      "text/plain": [
       "<tensorflow.python.keras.callbacks.History at 0x1ea1e804ef0>"
      ]
     },
     "execution_count": 162,
     "metadata": {},
     "output_type": "execute_result"
    }
   ],
   "source": [
    "## Train the model\n",
    "\n",
    "model.fit(x_OHE,y_OHE, epochs=100, verbose=2, batch_size=10)"
   ]
  },
  {
   "cell_type": "code",
   "execution_count": 163,
   "metadata": {},
   "outputs": [
    {
     "data": {
      "text/plain": [
       "array([[[0.49799886],\n",
       "        [0.49799886]],\n",
       "\n",
       "       [[0.49799886],\n",
       "        [0.50211996]],\n",
       "\n",
       "       [[0.50211996],\n",
       "        [0.49799886]],\n",
       "\n",
       "       ...,\n",
       "\n",
       "       [[0.49799886],\n",
       "        [0.50211996]],\n",
       "\n",
       "       [[0.50211996],\n",
       "        [0.49799886]],\n",
       "\n",
       "       [[0.50211996],\n",
       "        [0.50211996]]], dtype=float32)"
      ]
     },
     "execution_count": 163,
     "metadata": {},
     "output_type": "execute_result"
    }
   ],
   "source": [
    "model.predict(x_OHE)"
   ]
  },
  {
   "cell_type": "code",
   "execution_count": 164,
   "metadata": {},
   "outputs": [
    {
     "data": {
      "text/plain": [
       "array([[[0],\n",
       "        [0]],\n",
       "\n",
       "       [[0],\n",
       "        [1]],\n",
       "\n",
       "       [[1],\n",
       "        [0]],\n",
       "\n",
       "       ...,\n",
       "\n",
       "       [[0],\n",
       "        [1]],\n",
       "\n",
       "       [[1],\n",
       "        [0]],\n",
       "\n",
       "       [[1],\n",
       "        [1]]])"
      ]
     },
     "execution_count": 164,
     "metadata": {},
     "output_type": "execute_result"
    }
   ],
   "source": [
    "model.predict_classes(x_OHE)"
   ]
  },
  {
   "cell_type": "code",
   "execution_count": null,
   "metadata": {},
   "outputs": [],
   "source": []
  }
 ],
 "metadata": {
  "kernelspec": {
   "display_name": "Python 3",
   "language": "python",
   "name": "python3"
  },
  "language_info": {
   "codemirror_mode": {
    "name": "ipython",
    "version": 3
   },
   "file_extension": ".py",
   "mimetype": "text/x-python",
   "name": "python",
   "nbconvert_exporter": "python",
   "pygments_lexer": "ipython3",
   "version": "3.6.9"
  }
 },
 "nbformat": 4,
 "nbformat_minor": 4
}
