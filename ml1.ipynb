{
 "cells": [
  {
   "cell_type": "markdown",
   "metadata": {},
   "source": [
    "# My First Neural Network"
   ]
  },
  {
   "cell_type": "markdown",
   "metadata": {},
   "source": [
    "### Single Feature Single Output Neural Net"
   ]
  },
  {
   "cell_type": "code",
   "execution_count": 14,
   "metadata": {},
   "outputs": [],
   "source": [
    "## Define the neural network\n",
    "\n",
    "weight = 0.1\n",
    "def neural_net(input, weight):\n",
    "    prediction = input*weight\n",
    "    return(prediction)"
   ]
  },
  {
   "cell_type": "code",
   "execution_count": 16,
   "metadata": {},
   "outputs": [
    {
     "name": "stdout",
     "output_type": "stream",
     "text": [
      "0.86\n",
      "0.34\n",
      "0.67\n",
      "0.4\n"
     ]
    }
   ],
   "source": [
    "## Define input data\n",
    "\n",
    "toes = [8.6, 3.4, 6.7, 4]\n",
    "for i in range(0,len(toes)):\n",
    "    pred = neural_net(toes[i],weight)\n",
    "    print(pred)"
   ]
  },
  {
   "cell_type": "markdown",
   "metadata": {},
   "source": [
    "### Multiple Features Single Output Neural Net"
   ]
  },
  {
   "cell_type": "code",
   "execution_count": 38,
   "metadata": {},
   "outputs": [],
   "source": [
    "## Define neural net and weights\n",
    "\n",
    "weights = [0.1, 0.2, 0]\n",
    "def neural_net(input, weights):\n",
    "    prediction = weighted_sum(input,weights)\n",
    "    return(prediction)"
   ]
  },
  {
   "cell_type": "code",
   "execution_count": 39,
   "metadata": {},
   "outputs": [],
   "source": [
    "## Define weighted sum function\n",
    "\n",
    "def weighted_sum(input, weights):\n",
    "    assert(len(input)==len(weights))\n",
    "    sum=0\n",
    "    for i in range(0,len(input)):\n",
    "        sum += (input[i]*weights[i])\n",
    "    return(sum)"
   ]
  },
  {
   "cell_type": "code",
   "execution_count": 40,
   "metadata": {},
   "outputs": [
    {
     "name": "stdout",
     "output_type": "stream",
     "text": [
      "0.9800000000000001\n",
      "1.11\n",
      "1.1500000000000001\n",
      "1.08\n"
     ]
    }
   ],
   "source": [
    "## Define input data (3 features)\n",
    "\n",
    "toes = [8.5, 9.5, 9.9, 9.0]\n",
    "wlrec = [0.65,0.8,0.8,0.9]\n",
    "nfans = [1.2, 1.3, 0.5, 1.0]\n",
    "\n",
    "for i in range(0,len(toes)):\n",
    "    pred = neural_net([toes[i],wlrec[i],nfans[i]],weights)\n",
    "    print(pred)"
   ]
  },
  {
   "cell_type": "code",
   "execution_count": null,
   "metadata": {},
   "outputs": [],
   "source": []
  }
 ],
 "metadata": {
  "kernelspec": {
   "display_name": "Python 3",
   "language": "python",
   "name": "python3"
  },
  "language_info": {
   "codemirror_mode": {
    "name": "ipython",
    "version": 3
   },
   "file_extension": ".py",
   "mimetype": "text/x-python",
   "name": "python",
   "nbconvert_exporter": "python",
   "pygments_lexer": "ipython3",
   "version": "3.6.9"
  }
 },
 "nbformat": 4,
 "nbformat_minor": 4
}
