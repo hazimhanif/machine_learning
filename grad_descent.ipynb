{
 "cells": [
  {
   "cell_type": "markdown",
   "metadata": {},
   "source": [
    "# Gradient Descent"
   ]
  },
  {
   "cell_type": "markdown",
   "metadata": {},
   "source": [
    "### Hot and Cold Learning"
   ]
  },
  {
   "cell_type": "code",
   "execution_count": 34,
   "metadata": {},
   "outputs": [],
   "source": [
    "weight = 0.5\n",
    "input = 0.5\n",
    "goal_prediction = 0.8\n",
    "step_amount = 0.1"
   ]
  },
  {
   "cell_type": "code",
   "execution_count": 35,
   "metadata": {},
   "outputs": [
    {
     "name": "stdout",
     "output_type": "stream",
     "text": [
      "\n",
      "Prediction: 0.3\n",
      "Error: 0.25\n",
      "\n",
      "Prediction: 0.35\n",
      "Error: 0.20250000000000007\n",
      "\n",
      "Prediction: 0.39999999999999997\n",
      "Error: 0.16000000000000006\n",
      "\n",
      "Prediction: 0.44999999999999996\n",
      "Error: 0.12250000000000007\n",
      "\n",
      "Prediction: 0.49999999999999994\n",
      "Error: 0.09000000000000007\n",
      "\n",
      "Prediction: 0.5499999999999999\n",
      "Error: 0.06250000000000006\n",
      "\n",
      "Prediction: 0.6\n",
      "Error: 0.04000000000000003\n",
      "\n",
      "Prediction: 0.65\n",
      "Error: 0.022500000000000006\n",
      "\n",
      "Prediction: 0.7000000000000001\n",
      "Error: 0.009999999999999995\n",
      "\n",
      "Prediction: 0.7500000000000001\n",
      "Error: 0.0024999999999999935\n",
      "\n",
      "Prediction: 0.8000000000000002\n",
      "Error: 1.232595164407831e-32\n"
     ]
    }
   ],
   "source": [
    "prediction = input * weight\n",
    "error = (prediction-goal_prediction)**2\n",
    "\n",
    "for i in range(0,11):\n",
    "    \n",
    "    up_prediction = input * (weight+step_amount)\n",
    "    error_up = (up_prediction-goal_prediction)**2\n",
    "\n",
    "    down_prediction = input * (weight-step_amount)\n",
    "    error_dn = (down_prediction-goal_prediction)**2\n",
    "\n",
    "    if(error_dn > error_up):\n",
    "        weight += step_amount\n",
    "    if(error_dn < error_up):\n",
    "        weight -= step_amount\n",
    "\n",
    "    prediction = input * weight\n",
    "    error = (prediction-goal_prediction)**2\n",
    "    print(\"\\nPrediction:\",prediction)\n",
    "    print(\"Error:\", error)"
   ]
  },
  {
   "cell_type": "markdown",
   "metadata": {},
   "source": [
    "### Gradient descent"
   ]
  },
  {
   "cell_type": "code",
   "execution_count": 40,
   "metadata": {},
   "outputs": [
    {
     "name": "stdout",
     "output_type": "stream",
     "text": [
      "\n",
      "Pred: 0.25\n",
      "Error: 0.30250000000000005\n",
      "\n",
      "Pred: 0.3875\n",
      "Error: 0.17015625000000004\n",
      "\n",
      "Pred: 0.49062500000000003\n",
      "Error: 0.095712890625\n",
      "\n",
      "Pred: 0.56796875\n",
      "Error: 0.05383850097656251\n",
      "\n",
      "Pred: 0.6259765625\n",
      "Error: 0.03028415679931642\n",
      "\n",
      "Pred: 0.669482421875\n",
      "Error: 0.0170348381996155\n",
      "\n",
      "Pred: 0.70211181640625\n",
      "Error: 0.00958209648728372\n",
      "\n",
      "Pred: 0.7265838623046875\n",
      "Error: 0.005389929274097089\n",
      "\n",
      "Pred: 0.7449378967285156\n",
      "Error: 0.0030318352166796153\n",
      "\n",
      "Pred: 0.7587034225463867\n",
      "Error: 0.0017054073093822882\n"
     ]
    }
   ],
   "source": [
    "weight = 0.5\n",
    "gold_pred = 0.8\n",
    "input = 0.5\n",
    "\n",
    "for interation in range(0,10):\n",
    "    \n",
    "    prediction = input * weight\n",
    "    error = (prediction - gold_pred)**2\n",
    "    print('\\nPred:', prediction)\n",
    "    print('Error:', error)\n",
    "    \n",
    "    direction_amount = (prediction - gold_pred)*input\n",
    "    weight -= direction_amount"
   ]
  },
  {
   "cell_type": "markdown",
   "metadata": {},
   "source": [
    "### One iteration of gradient descent"
   ]
  },
  {
   "cell_type": "code",
   "execution_count": 1,
   "metadata": {},
   "outputs": [],
   "source": [
    "weight = 0.1\n",
    "alpha = 0.01  ## the learning rate\n",
    "\n",
    "def neural_net(input,weight):\n",
    "    pred = input*weight\n",
    "    return(pred)"
   ]
  },
  {
   "cell_type": "code",
   "execution_count": 8,
   "metadata": {},
   "outputs": [
    {
     "name": "stdout",
     "output_type": "stream",
     "text": [
      "0.8500000000000001\n",
      "0.022499999999999975\n"
     ]
    }
   ],
   "source": [
    "num_toes = [8.5]\n",
    "win_or_lose = [1]  ## Win\n",
    "\n",
    "input = num_toes[0]\n",
    "goal = win_or_lose[0]\n",
    "\n",
    "pred = neural_net(input,weight)\n",
    "error = (pred - goal)**2\n",
    "delta = pred-goal\n",
    "print(pred)\n",
    "print(error)"
   ]
  },
  {
   "cell_type": "code",
   "execution_count": 10,
   "metadata": {},
   "outputs": [],
   "source": [
    "weight_delta = input*delta\n",
    "weight = weight - weight_delta *alpha"
   ]
  },
  {
   "cell_type": "code",
   "execution_count": 12,
   "metadata": {},
   "outputs": [
    {
     "data": {
      "text/plain": [
       "-0.8800000000000001"
      ]
     },
     "execution_count": 12,
     "metadata": {},
     "output_type": "execute_result"
    }
   ],
   "source": [
    "-0.8*1.1"
   ]
  },
  {
   "cell_type": "code",
   "execution_count": 14,
   "metadata": {},
   "outputs": [
    {
     "data": {
      "text/plain": [
       "0.16800000000000004"
      ]
     },
     "execution_count": 14,
     "metadata": {},
     "output_type": "execute_result"
    }
   ],
   "source": [
    "0.88*1.1-0.8"
   ]
  },
  {
   "cell_type": "code",
   "execution_count": 15,
   "metadata": {},
   "outputs": [
    {
     "data": {
      "text/plain": [
       "0.18480000000000005"
      ]
     },
     "execution_count": 15,
     "metadata": {},
     "output_type": "execute_result"
    }
   ],
   "source": [
    "0.16800000000000004*1.1"
   ]
  },
  {
   "cell_type": "code",
   "execution_count": 16,
   "metadata": {},
   "outputs": [
    {
     "data": {
      "text/plain": [
       "0.696"
      ]
     },
     "execution_count": 16,
     "metadata": {},
     "output_type": "execute_result"
    }
   ],
   "source": [
    "0.88-0.184"
   ]
  },
  {
   "cell_type": "code",
   "execution_count": 17,
   "metadata": {},
   "outputs": [
    {
     "data": {
      "text/plain": [
       "0.759"
      ]
     },
     "execution_count": 17,
     "metadata": {},
     "output_type": "execute_result"
    }
   ],
   "source": [
    "0.69*1.1"
   ]
  },
  {
   "cell_type": "code",
   "execution_count": 18,
   "metadata": {},
   "outputs": [
    {
     "data": {
      "text/plain": [
       "-0.041000000000000036"
      ]
     },
     "execution_count": 18,
     "metadata": {},
     "output_type": "execute_result"
    }
   ],
   "source": [
    "0.759-0.8"
   ]
  },
  {
   "cell_type": "code",
   "execution_count": 19,
   "metadata": {},
   "outputs": [
    {
     "data": {
      "text/plain": [
       "-0.04510000000000004"
      ]
     },
     "execution_count": 19,
     "metadata": {},
     "output_type": "execute_result"
    }
   ],
   "source": [
    "-0.041000000000000036*1.1"
   ]
  },
  {
   "cell_type": "code",
   "execution_count": 21,
   "metadata": {},
   "outputs": [
    {
     "data": {
      "text/plain": [
       "0.735"
      ]
     },
     "execution_count": 21,
     "metadata": {},
     "output_type": "execute_result"
    }
   ],
   "source": [
    "0.69+0.045"
   ]
  },
  {
   "cell_type": "code",
   "execution_count": 22,
   "metadata": {},
   "outputs": [
    {
     "data": {
      "text/plain": [
       "0.8085"
      ]
     },
     "execution_count": 22,
     "metadata": {},
     "output_type": "execute_result"
    }
   ],
   "source": [
    "0.735*1.1"
   ]
  },
  {
   "cell_type": "code",
   "execution_count": 24,
   "metadata": {},
   "outputs": [
    {
     "data": {
      "text/plain": [
       "7.224999999999918e-05"
      ]
     },
     "execution_count": 24,
     "metadata": {},
     "output_type": "execute_result"
    }
   ],
   "source": [
    "(0.8085-0.8)**2"
   ]
  },
  {
   "cell_type": "markdown",
   "metadata": {},
   "source": [
    "## Gradient Descent (Multiple Input)"
   ]
  },
  {
   "cell_type": "code",
   "execution_count": 17,
   "metadata": {},
   "outputs": [],
   "source": [
    "import numpy as np\n",
    "\n",
    "## Data\n",
    "\n",
    "weight = [0.1, 0.2, -0.1]\n",
    "\n",
    "toes = [8.5, 9.5, 9.9, 9.0]\n",
    "wlrec = [0.65, 0.8, 0.8, 0.9]\n",
    "nfans = [1.2, 1.3, 0.5, 1.0]\n",
    "\n",
    "win_lose = [1,1,0,1]"
   ]
  },
  {
   "cell_type": "code",
   "execution_count": 18,
   "metadata": {},
   "outputs": [],
   "source": [
    "def neural_net(input,weight):\n",
    "    pred = w_sum(input,weight)\n",
    "    return(pred)"
   ]
  },
  {
   "cell_type": "code",
   "execution_count": 19,
   "metadata": {},
   "outputs": [],
   "source": [
    "def w_sum(a,b):\n",
    "    sum = 0\n",
    "    for i in range(len(a)):\n",
    "        sum += (a[i]*b[i])\n",
    "    return(sum)"
   ]
  },
  {
   "cell_type": "code",
   "execution_count": 52,
   "metadata": {},
   "outputs": [],
   "source": [
    "def grad_descent(delta,input,weight,alpha):\n",
    "    new_weight = [0,0,0]\n",
    "    for i in range(len(input)):\n",
    "        weight_delta = (delta*input[i])\n",
    "        new_weight[i] = weight[i] - (weight_delta*alpha)\n",
    "    return(new_weight)"
   ]
  },
  {
   "cell_type": "code",
   "execution_count": 58,
   "metadata": {},
   "outputs": [
    {
     "name": "stdout",
     "output_type": "stream",
     "text": [
      "\n",
      "Epoch  1 : Prediction- 0.8600000000000001   Error(SE)- 0.01959999999999997\n",
      "\n",
      "Epoch  2 : Prediction- 0.9637574999999999   Error(SE)- 0.0013135188062500048\n",
      "\n",
      "Epoch  3 : Prediction- 0.9906177228125002   Error(SE)- 8.802712522307997e-05\n",
      "\n",
      "Epoch  4 : Prediction- 0.997571162993086   Error(SE)- 5.899249206154892e-06\n",
      "\n",
      "Epoch  5 : Prediction- 0.9993712348198351   Error(SE)- 3.953456517877471e-07\n"
     ]
    }
   ],
   "source": [
    "## 1 ROW ONLY EXAMPLE\n",
    "\n",
    "epoch = 5\n",
    "updated_weight = weight\n",
    "alpha = 0.01\n",
    "i = 0\n",
    "\n",
    "for iteration in range(epoch):\n",
    "    input = [toes[i],wlrec[i],nfans[i]]\n",
    "    prediction = neural_net(input,updated_weight)\n",
    "    delta = prediction - win_lose[i]\n",
    "    print(\"\\nEpoch \",iteration+1,\": Prediction-\",prediction,\"  Error(SE)-\", np.square(delta))\n",
    "    updated_weight = grad_descent(delta,input,updated_weight,alpha)"
   ]
  },
  {
   "cell_type": "markdown",
   "metadata": {},
   "source": [
    "## Gradient Descent with Multiple Output"
   ]
  },
  {
   "cell_type": "code",
   "execution_count": 39,
   "metadata": {},
   "outputs": [],
   "source": [
    "## Data\n",
    "import numpy as np\n",
    "\n",
    "weights = [0.3, 0.2, 0.9]\n",
    "\n",
    "wlrec = [0.65, 1.0 , 1.0, 0.9]\n",
    "\n",
    "hurt= [0.1, 0.0, 0.0, 0.1]\n",
    "win = [1, 1, 0, 1]\n",
    "sad = [0.1 ,0.0, 0.1, 0.2]"
   ]
  },
  {
   "cell_type": "code",
   "execution_count": 31,
   "metadata": {},
   "outputs": [],
   "source": [
    "def neural_network(input,weights):\n",
    "    prediction = ele_mul(input,weights)\n",
    "    return(prediction)"
   ]
  },
  {
   "cell_type": "code",
   "execution_count": 30,
   "metadata": {},
   "outputs": [],
   "source": [
    "def ele_mul(input,weights):\n",
    "    output = []\n",
    "    for i in range(len(weights)):\n",
    "        output.append(input*weights[i])\n",
    "    return(output)"
   ]
  },
  {
   "cell_type": "code",
   "execution_count": 48,
   "metadata": {},
   "outputs": [],
   "source": [
    "def grad_descent(input,weights,error):\n",
    "    new_weights = []\n",
    "    for i in range(len(weights)):\n",
    "        weight_delta = error[i]*input\n",
    "        new_weights.append(weights[i]-(weight_delta*0.1))\n",
    "    return(new_weights)"
   ]
  },
  {
   "cell_type": "code",
   "execution_count": 58,
   "metadata": {},
   "outputs": [
    {
     "name": "stdout",
     "output_type": "stream",
     "text": [
      "\n",
      "The weights are:  [0.3, 0.2, 0.9]\n",
      "The prediction are:  [0.195, 0.13, 0.5850000000000001]\n",
      "\n",
      "The weights are:  [0.293825, 0.25655, 0.868475]\n",
      "The prediction are:  [0.19098625, 0.1667575, 0.56450875]\n",
      "\n",
      "The weights are:  [0.28791089375, 0.3107107625, 0.83828193125]\n",
      "The prediction are:  [0.1871420809375, 0.20196199562500003, 0.5448832553125]\n",
      "\n",
      "The weights are:  [0.2822466584890625, 0.362583232784375, 0.8093645196546875]\n",
      "The prediction are:  [0.18346032801789064, 0.23567910130984374, 0.5260869377755468]\n",
      "\n",
      "The weights are:  [0.2768217371678996, 0.4122640911992351, 0.781668868699277]\n",
      "The prediction are:  [0.17993412915913473, 0.26797165927950284, 0.50808476465453]\n"
     ]
    }
   ],
   "source": [
    "input = wlrec[0]\n",
    "output  = [0.1, 1, 0.1]\n",
    "updated_weights = weights\n",
    "for epoch in range(0,5):\n",
    "    print(\"\\nThe weights are: \",updated_weights)\n",
    "    error = []\n",
    "    pred = neural_network(input,updated_weights)\n",
    "    for i in range(len(pred)):\n",
    "        error.append(pred[i]- output[i])\n",
    "    print(\"The prediction are: \",pred)\n",
    "    updated_weights = grad_descent(input,updated_weights,error)"
   ]
  },
  {
   "cell_type": "markdown",
   "metadata": {},
   "source": [
    "## Gradient Descent (Multiple Input Multiple Output)"
   ]
  },
  {
   "cell_type": "code",
   "execution_count": 92,
   "metadata": {},
   "outputs": [],
   "source": [
    "## Data\n",
    "import numpy as np\n",
    "\n",
    "weights = [[0.1,0.1,-0.3],   ## hurt\n",
    "           [0.1,0.2, 0.0],   ## win\n",
    "           [0.0,1.3,0.1]]    ## sad\n",
    "\n",
    "## Input\n",
    "\n",
    "toes = [8.5, 9.5, 9.9, 9.0]\n",
    "wlrec = [0.65, 0.8, 0.8, 0.9]\n",
    "nfans = [1.2, 1.3, 0.5, 1.0]\n",
    "\n",
    "## Output\n",
    "\n",
    "hurt= [0.1, 0.0, 0.0, 0.1]\n",
    "win = [1, 1, 0, 1]\n",
    "sad = [0.1 ,0.0, 0.1, 0.2]\n",
    "\n",
    "## learning rate\n",
    "alpha = 0.01"
   ]
  },
  {
   "cell_type": "code",
   "execution_count": 93,
   "metadata": {},
   "outputs": [],
   "source": [
    "def neural_net(input,weights):\n",
    "    prediction = np.dot(input,np.array(weights).T)\n",
    "    return prediction"
   ]
  },
  {
   "cell_type": "code",
   "execution_count": 106,
   "metadata": {},
   "outputs": [],
   "source": [
    "def grad_descent(input,weights,error,alpha):\n",
    "    new_weights = []\n",
    "    for i in range(len(error)):\n",
    "        weight_delta = (np.dot(input,error[i]))\n",
    "        new_weights.append(np.subtract(weights[i],np.dot(weight_delta,alpha)))\n",
    "    return(new_weights)"
   ]
  },
  {
   "cell_type": "code",
   "execution_count": 109,
   "metadata": {},
   "outputs": [
    {
     "name": "stdout",
     "output_type": "stream",
     "text": [
      "\n",
      "The weights are:  [[0.1, 0.1, -0.3], [0.1, 0.2, 0.0], [0.0, 1.3, 0.1]]\n",
      "The prediction are:  [0.555 0.98  0.965]\n",
      "\n",
      "The weights are:  [array([ 0.061325 ,  0.0970425, -0.30546  ]), array([0.1017 , 0.20013, 0.00024]), array([-0.073525 ,  1.2943775,  0.08962  ])]\n",
      "The prediction are:  [0.21778812 0.9948225  0.32392687]\n",
      "\n",
      "The weights are:  [array([ 0.08998801,  0.09923438, -0.30141346]), array([1.00440088e-01, 2.00033654e-01, 6.21300000e-05]), array([-0.01903378,  1.29854448,  0.09731288])]\n",
      "The prediction are:  [0.46770428 0.98383717 0.79904219]\n",
      "\n",
      "The weights are:  [array([ 0.06874514,  0.09760992, -0.30441245]), array([1.01373840e-01, 2.00105058e-01, 1.93953904e-04]), array([-0.05941859,  1.29545623,  0.09161149])]\n",
      "The prediction are:  [0.28248517 0.99197867 0.44692235]\n",
      "\n",
      "The weights are:  [array([ 0.08448876,  0.09881385, -0.30218982]), array([1.00681813e-01, 2.00052139e-01, 9.62559131e-05]), array([-0.0294884 ,  1.297745  ,  0.09583693])]\n",
      "The prediction are:  [0.41975568 0.98594481 0.70788717]\n"
     ]
    }
   ],
   "source": [
    "## Training 1st row only\n",
    "\n",
    "input = [toes[0],wlrec[0],nfans[0]]\n",
    "output = output  = [0.1, 1, 0.1]\n",
    "updated_weights = weights\n",
    "\n",
    "for epoch in range(0,5):\n",
    "    error = []\n",
    "    pred = neural_net(input,updated_weights)\n",
    "    print(\"\\nThe weights are: \",updated_weights)\n",
    "    for i in range(len(pred)):\n",
    "        error.append(pred[i] - output[i])\n",
    "    updated_weights = grad_descent(input,weights,error,alpha)\n",
    "    print(\"The prediction are: \",pred)"
   ]
  }
 ],
 "metadata": {
  "kernelspec": {
   "display_name": "Python 3",
   "language": "python",
   "name": "python3"
  },
  "language_info": {
   "codemirror_mode": {
    "name": "ipython",
    "version": 3
   },
   "file_extension": ".py",
   "mimetype": "text/x-python",
   "name": "python",
   "nbconvert_exporter": "python",
   "pygments_lexer": "ipython3",
   "version": "3.7.4"
  }
 },
 "nbformat": 4,
 "nbformat_minor": 4
}
