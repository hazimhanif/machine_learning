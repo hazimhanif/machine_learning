{
 "cells": [
  {
   "cell_type": "markdown",
   "metadata": {},
   "source": [
    "# Gradient Descent"
   ]
  },
  {
   "cell_type": "markdown",
   "metadata": {},
   "source": [
    "### Hot and Cold Learning"
   ]
  },
  {
   "cell_type": "code",
   "execution_count": 34,
   "metadata": {},
   "outputs": [],
   "source": [
    "weight = 0.5\n",
    "input = 0.5\n",
    "goal_prediction = 0.8\n",
    "step_amount = 0.1"
   ]
  },
  {
   "cell_type": "code",
   "execution_count": 35,
   "metadata": {},
   "outputs": [
    {
     "name": "stdout",
     "output_type": "stream",
     "text": [
      "\n",
      "Prediction: 0.3\n",
      "Error: 0.25\n",
      "\n",
      "Prediction: 0.35\n",
      "Error: 0.20250000000000007\n",
      "\n",
      "Prediction: 0.39999999999999997\n",
      "Error: 0.16000000000000006\n",
      "\n",
      "Prediction: 0.44999999999999996\n",
      "Error: 0.12250000000000007\n",
      "\n",
      "Prediction: 0.49999999999999994\n",
      "Error: 0.09000000000000007\n",
      "\n",
      "Prediction: 0.5499999999999999\n",
      "Error: 0.06250000000000006\n",
      "\n",
      "Prediction: 0.6\n",
      "Error: 0.04000000000000003\n",
      "\n",
      "Prediction: 0.65\n",
      "Error: 0.022500000000000006\n",
      "\n",
      "Prediction: 0.7000000000000001\n",
      "Error: 0.009999999999999995\n",
      "\n",
      "Prediction: 0.7500000000000001\n",
      "Error: 0.0024999999999999935\n",
      "\n",
      "Prediction: 0.8000000000000002\n",
      "Error: 1.232595164407831e-32\n"
     ]
    }
   ],
   "source": [
    "prediction = input * weight\n",
    "error = (prediction-goal_prediction)**2\n",
    "\n",
    "for i in range(0,11):\n",
    "    \n",
    "    up_prediction = input * (weight+step_amount)\n",
    "    error_up = (up_prediction-goal_prediction)**2\n",
    "\n",
    "    down_prediction = input * (weight-step_amount)\n",
    "    error_dn = (down_prediction-goal_prediction)**2\n",
    "\n",
    "    if(error_dn > error_up):\n",
    "        weight += step_amount\n",
    "    if(error_dn < error_up):\n",
    "        weight -= step_amount\n",
    "\n",
    "    prediction = input * weight\n",
    "    error = (prediction-goal_prediction)**2\n",
    "    print(\"\\nPrediction:\",prediction)\n",
    "    print(\"Error:\", error)"
   ]
  },
  {
   "cell_type": "markdown",
   "metadata": {},
   "source": [
    "### Gradient descent"
   ]
  },
  {
   "cell_type": "code",
   "execution_count": 40,
   "metadata": {},
   "outputs": [
    {
     "name": "stdout",
     "output_type": "stream",
     "text": [
      "\n",
      "Pred: 0.25\n",
      "Error: 0.30250000000000005\n",
      "\n",
      "Pred: 0.3875\n",
      "Error: 0.17015625000000004\n",
      "\n",
      "Pred: 0.49062500000000003\n",
      "Error: 0.095712890625\n",
      "\n",
      "Pred: 0.56796875\n",
      "Error: 0.05383850097656251\n",
      "\n",
      "Pred: 0.6259765625\n",
      "Error: 0.03028415679931642\n",
      "\n",
      "Pred: 0.669482421875\n",
      "Error: 0.0170348381996155\n",
      "\n",
      "Pred: 0.70211181640625\n",
      "Error: 0.00958209648728372\n",
      "\n",
      "Pred: 0.7265838623046875\n",
      "Error: 0.005389929274097089\n",
      "\n",
      "Pred: 0.7449378967285156\n",
      "Error: 0.0030318352166796153\n",
      "\n",
      "Pred: 0.7587034225463867\n",
      "Error: 0.0017054073093822882\n"
     ]
    }
   ],
   "source": [
    "weight = 0.5\n",
    "gold_pred = 0.8\n",
    "input = 0.5\n",
    "\n",
    "for interation in range(0,10):\n",
    "    \n",
    "    prediction = input * weight\n",
    "    error = (prediction - gold_pred)**2\n",
    "    print('\\nPred:', prediction)\n",
    "    print('Error:', error)\n",
    "    \n",
    "    direction_amount = (prediction - gold_pred)*input\n",
    "    weight -= direction_amount"
   ]
  },
  {
   "cell_type": "code",
   "execution_count": null,
   "metadata": {},
   "outputs": [],
   "source": []
  },
  {
   "cell_type": "code",
   "execution_count": null,
   "metadata": {},
   "outputs": [],
   "source": []
  }
 ],
 "metadata": {
  "kernelspec": {
   "display_name": "Python 3",
   "language": "python",
   "name": "python3"
  },
  "language_info": {
   "codemirror_mode": {
    "name": "ipython",
    "version": 3
   },
   "file_extension": ".py",
   "mimetype": "text/x-python",
   "name": "python",
   "nbconvert_exporter": "python",
   "pygments_lexer": "ipython3",
   "version": "3.6.9"
  }
 },
 "nbformat": 4,
 "nbformat_minor": 4
}
