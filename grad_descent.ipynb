{
 "cells": [
  {
   "cell_type": "markdown",
   "metadata": {},
   "source": [
    "# Gradient Descent"
   ]
  },
  {
   "cell_type": "markdown",
   "metadata": {},
   "source": [
    "### Hot and Cold Learning"
   ]
  },
  {
   "cell_type": "code",
   "execution_count": 34,
   "metadata": {},
   "outputs": [],
   "source": [
    "weight = 0.5\n",
    "input = 0.5\n",
    "goal_prediction = 0.8\n",
    "step_amount = 0.1"
   ]
  },
  {
   "cell_type": "code",
   "execution_count": 35,
   "metadata": {},
   "outputs": [
    {
     "name": "stdout",
     "output_type": "stream",
     "text": [
      "\n",
      "Prediction: 0.3\n",
      "Error: 0.25\n",
      "\n",
      "Prediction: 0.35\n",
      "Error: 0.20250000000000007\n",
      "\n",
      "Prediction: 0.39999999999999997\n",
      "Error: 0.16000000000000006\n",
      "\n",
      "Prediction: 0.44999999999999996\n",
      "Error: 0.12250000000000007\n",
      "\n",
      "Prediction: 0.49999999999999994\n",
      "Error: 0.09000000000000007\n",
      "\n",
      "Prediction: 0.5499999999999999\n",
      "Error: 0.06250000000000006\n",
      "\n",
      "Prediction: 0.6\n",
      "Error: 0.04000000000000003\n",
      "\n",
      "Prediction: 0.65\n",
      "Error: 0.022500000000000006\n",
      "\n",
      "Prediction: 0.7000000000000001\n",
      "Error: 0.009999999999999995\n",
      "\n",
      "Prediction: 0.7500000000000001\n",
      "Error: 0.0024999999999999935\n",
      "\n",
      "Prediction: 0.8000000000000002\n",
      "Error: 1.232595164407831e-32\n"
     ]
    }
   ],
   "source": [
    "prediction = input * weight\n",
    "error = (prediction-goal_prediction)**2\n",
    "\n",
    "for i in range(0,11):\n",
    "    \n",
    "    up_prediction = input * (weight+step_amount)\n",
    "    error_up = (up_prediction-goal_prediction)**2\n",
    "\n",
    "    down_prediction = input * (weight-step_amount)\n",
    "    error_dn = (down_prediction-goal_prediction)**2\n",
    "\n",
    "    if(error_dn > error_up):\n",
    "        weight += step_amount\n",
    "    if(error_dn < error_up):\n",
    "        weight -= step_amount\n",
    "\n",
    "    prediction = input * weight\n",
    "    error = (prediction-goal_prediction)**2\n",
    "    print(\"\\nPrediction:\",prediction)\n",
    "    print(\"Error:\", error)"
   ]
  },
  {
   "cell_type": "markdown",
   "metadata": {},
   "source": [
    "### Gradient descent"
   ]
  },
  {
   "cell_type": "code",
   "execution_count": 40,
   "metadata": {},
   "outputs": [
    {
     "name": "stdout",
     "output_type": "stream",
     "text": [
      "\n",
      "Pred: 0.25\n",
      "Error: 0.30250000000000005\n",
      "\n",
      "Pred: 0.3875\n",
      "Error: 0.17015625000000004\n",
      "\n",
      "Pred: 0.49062500000000003\n",
      "Error: 0.095712890625\n",
      "\n",
      "Pred: 0.56796875\n",
      "Error: 0.05383850097656251\n",
      "\n",
      "Pred: 0.6259765625\n",
      "Error: 0.03028415679931642\n",
      "\n",
      "Pred: 0.669482421875\n",
      "Error: 0.0170348381996155\n",
      "\n",
      "Pred: 0.70211181640625\n",
      "Error: 0.00958209648728372\n",
      "\n",
      "Pred: 0.7265838623046875\n",
      "Error: 0.005389929274097089\n",
      "\n",
      "Pred: 0.7449378967285156\n",
      "Error: 0.0030318352166796153\n",
      "\n",
      "Pred: 0.7587034225463867\n",
      "Error: 0.0017054073093822882\n"
     ]
    }
   ],
   "source": [
    "weight = 0.5\n",
    "gold_pred = 0.8\n",
    "input = 0.5\n",
    "\n",
    "for interation in range(0,10):\n",
    "    \n",
    "    prediction = input * weight\n",
    "    error = (prediction - gold_pred)**2\n",
    "    print('\\nPred:', prediction)\n",
    "    print('Error:', error)\n",
    "    \n",
    "    direction_amount = (prediction - gold_pred)*input\n",
    "    weight -= direction_amount"
   ]
  },
  {
   "cell_type": "markdown",
   "metadata": {},
   "source": [
    "### One iteration of gradient descent"
   ]
  },
  {
   "cell_type": "code",
   "execution_count": 1,
   "metadata": {},
   "outputs": [],
   "source": [
    "weight = 0.1\n",
    "alpha = 0.01  ## the learning rate\n",
    "\n",
    "def neural_net(input,weight):\n",
    "    pred = input*weight\n",
    "    return(pred)"
   ]
  },
  {
   "cell_type": "code",
   "execution_count": 8,
   "metadata": {},
   "outputs": [
    {
     "name": "stdout",
     "output_type": "stream",
     "text": [
      "0.8500000000000001\n",
      "0.022499999999999975\n"
     ]
    }
   ],
   "source": [
    "num_toes = [8.5]\n",
    "win_or_lose = [1]  ## Win\n",
    "\n",
    "input = num_toes[0]\n",
    "goal = win_or_lose[0]\n",
    "\n",
    "pred = neural_net(input,weight)\n",
    "error = (pred - goal)**2\n",
    "delta = pred-goal\n",
    "print(pred)\n",
    "print(error)"
   ]
  },
  {
   "cell_type": "code",
   "execution_count": 10,
   "metadata": {},
   "outputs": [],
   "source": [
    "weight_delta = input*delta\n",
    "weight = weight - weight_delta *alpha"
   ]
  },
  {
   "cell_type": "code",
   "execution_count": 12,
   "metadata": {},
   "outputs": [
    {
     "data": {
      "text/plain": [
       "-0.8800000000000001"
      ]
     },
     "execution_count": 12,
     "metadata": {},
     "output_type": "execute_result"
    }
   ],
   "source": [
    "-0.8*1.1"
   ]
  },
  {
   "cell_type": "code",
   "execution_count": 14,
   "metadata": {},
   "outputs": [
    {
     "data": {
      "text/plain": [
       "0.16800000000000004"
      ]
     },
     "execution_count": 14,
     "metadata": {},
     "output_type": "execute_result"
    }
   ],
   "source": [
    "0.88*1.1-0.8"
   ]
  },
  {
   "cell_type": "code",
   "execution_count": 15,
   "metadata": {},
   "outputs": [
    {
     "data": {
      "text/plain": [
       "0.18480000000000005"
      ]
     },
     "execution_count": 15,
     "metadata": {},
     "output_type": "execute_result"
    }
   ],
   "source": [
    "0.16800000000000004*1.1"
   ]
  },
  {
   "cell_type": "code",
   "execution_count": 16,
   "metadata": {},
   "outputs": [
    {
     "data": {
      "text/plain": [
       "0.696"
      ]
     },
     "execution_count": 16,
     "metadata": {},
     "output_type": "execute_result"
    }
   ],
   "source": [
    "0.88-0.184"
   ]
  },
  {
   "cell_type": "code",
   "execution_count": 17,
   "metadata": {},
   "outputs": [
    {
     "data": {
      "text/plain": [
       "0.759"
      ]
     },
     "execution_count": 17,
     "metadata": {},
     "output_type": "execute_result"
    }
   ],
   "source": [
    "0.69*1.1"
   ]
  },
  {
   "cell_type": "code",
   "execution_count": 18,
   "metadata": {},
   "outputs": [
    {
     "data": {
      "text/plain": [
       "-0.041000000000000036"
      ]
     },
     "execution_count": 18,
     "metadata": {},
     "output_type": "execute_result"
    }
   ],
   "source": [
    "0.759-0.8"
   ]
  },
  {
   "cell_type": "code",
   "execution_count": 19,
   "metadata": {},
   "outputs": [
    {
     "data": {
      "text/plain": [
       "-0.04510000000000004"
      ]
     },
     "execution_count": 19,
     "metadata": {},
     "output_type": "execute_result"
    }
   ],
   "source": [
    "-0.041000000000000036*1.1"
   ]
  },
  {
   "cell_type": "code",
   "execution_count": 21,
   "metadata": {},
   "outputs": [
    {
     "data": {
      "text/plain": [
       "0.735"
      ]
     },
     "execution_count": 21,
     "metadata": {},
     "output_type": "execute_result"
    }
   ],
   "source": [
    "0.69+0.045"
   ]
  },
  {
   "cell_type": "code",
   "execution_count": 22,
   "metadata": {},
   "outputs": [
    {
     "data": {
      "text/plain": [
       "0.8085"
      ]
     },
     "execution_count": 22,
     "metadata": {},
     "output_type": "execute_result"
    }
   ],
   "source": [
    "0.735*1.1"
   ]
  },
  {
   "cell_type": "code",
   "execution_count": 24,
   "metadata": {},
   "outputs": [
    {
     "data": {
      "text/plain": [
       "7.224999999999918e-05"
      ]
     },
     "execution_count": 24,
     "metadata": {},
     "output_type": "execute_result"
    }
   ],
   "source": [
    "(0.8085-0.8)**2"
   ]
  },
  {
   "cell_type": "markdown",
   "metadata": {},
   "source": [
    "## Gradient Descent (Multiple Input)"
   ]
  },
  {
   "cell_type": "code",
   "execution_count": 17,
   "metadata": {},
   "outputs": [],
   "source": [
    "import numpy as np\n",
    "\n",
    "## Data\n",
    "\n",
    "weight = [0.1, 0.2, -0.1]\n",
    "\n",
    "toes = [8.5, 9.5, 9.9, 9.0]\n",
    "wlrec = [0.65, 0.8, 0.8, 0.9]\n",
    "nfans = [1.2, 1.3, 0.5, 1.0]\n",
    "\n",
    "win_lose = [1,1,0,1]"
   ]
  },
  {
   "cell_type": "code",
   "execution_count": 18,
   "metadata": {},
   "outputs": [],
   "source": [
    "def neural_net(input,weight):\n",
    "    pred = w_sum(input,weight)\n",
    "    return(pred)"
   ]
  },
  {
   "cell_type": "code",
   "execution_count": 19,
   "metadata": {},
   "outputs": [],
   "source": [
    "def w_sum(a,b):\n",
    "    sum = 0\n",
    "    for i in range(len(a)):\n",
    "        sum += (a[i]*b[i])\n",
    "    return(sum)"
   ]
  },
  {
   "cell_type": "code",
   "execution_count": 52,
   "metadata": {},
   "outputs": [],
   "source": [
    "def grad_descent(delta,input,weight,alpha):\n",
    "    new_weight = [0,0,0]\n",
    "    for i in range(len(input)):\n",
    "        weight_delta = (delta*input[i])\n",
    "        new_weight[i] = weight[i] - (weight_delta*alpha)\n",
    "    return(new_weight)"
   ]
  },
  {
   "cell_type": "code",
   "execution_count": 58,
   "metadata": {},
   "outputs": [
    {
     "name": "stdout",
     "output_type": "stream",
     "text": [
      "\n",
      "Epoch  1 : Prediction- 0.8600000000000001   Error(SE)- 0.01959999999999997\n",
      "\n",
      "Epoch  2 : Prediction- 0.9637574999999999   Error(SE)- 0.0013135188062500048\n",
      "\n",
      "Epoch  3 : Prediction- 0.9906177228125002   Error(SE)- 8.802712522307997e-05\n",
      "\n",
      "Epoch  4 : Prediction- 0.997571162993086   Error(SE)- 5.899249206154892e-06\n",
      "\n",
      "Epoch  5 : Prediction- 0.9993712348198351   Error(SE)- 3.953456517877471e-07\n"
     ]
    }
   ],
   "source": [
    "## 1 ROW ONLY EXAMPLE\n",
    "\n",
    "epoch = 5\n",
    "updated_weight = weight\n",
    "alpha = 0.01\n",
    "i = 0\n",
    "\n",
    "for iteration in range(epoch):\n",
    "    input = [toes[i],wlrec[i],nfans[i]]\n",
    "    prediction = neural_net(input,updated_weight)\n",
    "    delta = prediction - win_lose[i]\n",
    "    print(\"\\nEpoch \",iteration+1,\": Prediction-\",prediction,\"  Error(SE)-\", np.square(delta))\n",
    "    updated_weight = grad_descent(delta,input,updated_weight,alpha)"
   ]
  },
  {
   "cell_type": "code",
   "execution_count": null,
   "metadata": {},
   "outputs": [],
   "source": []
  }
 ],
 "metadata": {
  "kernelspec": {
   "display_name": "Python 3",
   "language": "python",
   "name": "python3"
  },
  "language_info": {
   "codemirror_mode": {
    "name": "ipython",
    "version": 3
   },
   "file_extension": ".py",
   "mimetype": "text/x-python",
   "name": "python",
   "nbconvert_exporter": "python",
   "pygments_lexer": "ipython3",
   "version": "3.6.9"
  }
 },
 "nbformat": 4,
 "nbformat_minor": 4
}
