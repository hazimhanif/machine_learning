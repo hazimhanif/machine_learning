{
 "cells": [
  {
   "cell_type": "markdown",
   "metadata": {},
   "source": [
    "# Truth Table Neural Net"
   ]
  },
  {
   "cell_type": "code",
   "execution_count": 155,
   "metadata": {},
   "outputs": [],
   "source": [
    "## Import package\n",
    "\n",
    "import tensorflow as tf"
   ]
  },
  {
   "cell_type": "code",
   "execution_count": 156,
   "metadata": {},
   "outputs": [],
   "source": [
    "## Define data\n",
    "\n",
    "x = [[False,False],[False,True],[True,False],[True,True]]\n",
    "y = [False,True,True,False]"
   ]
  },
  {
   "cell_type": "code",
   "execution_count": 157,
   "metadata": {},
   "outputs": [
    {
     "name": "stdout",
     "output_type": "stream",
     "text": [
      "tf.Tensor(\n",
      "[[[1. 0.]\n",
      "  [1. 0.]]\n",
      "\n",
      " [[1. 0.]\n",
      "  [0. 1.]]\n",
      "\n",
      " [[0. 1.]\n",
      "  [1. 0.]]\n",
      "\n",
      " [[0. 1.]\n",
      "  [0. 1.]]], shape=(4, 2, 2), dtype=float32) \n",
      "\n",
      "tf.Tensor(\n",
      "[[1. 0.]\n",
      " [0. 1.]\n",
      " [0. 1.]\n",
      " [1. 0.]], shape=(4, 2), dtype=float32)\n"
     ]
    }
   ],
   "source": [
    "## OHE the data\n",
    "\n",
    "x = tf.keras.utils.to_categorical(x, num_classes=2)\n",
    "print(x_OHE,'\\n')\n",
    "y = tf.keras.utils.to_categorical(y, num_classes=2)\n",
    "print(y_OHE)"
   ]
  },
  {
   "cell_type": "code",
   "execution_count": 158,
   "metadata": {},
   "outputs": [
    {
     "name": "stdout",
     "output_type": "stream",
     "text": [
      "Model: \"sequential_30\"\n",
      "_________________________________________________________________\n",
      "Layer (type)                 Output Shape              Param #   \n",
      "=================================================================\n",
      "dense_74 (Dense)             (None, 2, 10)             30        \n",
      "_________________________________________________________________\n",
      "dense_75 (Dense)             (None, 2, 4)              44        \n",
      "_________________________________________________________________\n",
      "dense_76 (Dense)             (None, 2, 1)              5         \n",
      "=================================================================\n",
      "Total params: 79\n",
      "Trainable params: 79\n",
      "Non-trainable params: 0\n",
      "_________________________________________________________________\n"
     ]
    }
   ],
   "source": [
    "## Define model\n",
    "\n",
    "model = tf.keras.models.Sequential()\n",
    "model.add(tf.keras.layers.Dense(10, input_shape=(2,2), activation='relu'))\n",
    "model.add(tf.keras.layers.Dense(4, activation='relu'))\n",
    "model.add(tf.keras.layers.Dense(1, activation = 'sigmoid'))\n",
    "\n",
    "sgd = tf.keras.optimizers.SGD(lr=0.0001)\n",
    "\n",
    "## Compile model with metrics\n",
    "model.compile(optimizer=sgd, loss='binary_crossentropy', metrics=['accuracy'])\n",
    "model.summary()\n"
   ]
  },
  {
   "cell_type": "code",
   "execution_count": 171,
   "metadata": {},
   "outputs": [],
   "source": [
    "%%capture\n",
    "\n",
    "## Train the model\n",
    "hist = model.fit(x,y, epochs=500, verbose=2)"
   ]
  },
  {
   "cell_type": "code",
   "execution_count": 177,
   "metadata": {},
   "outputs": [
    {
     "name": "stdout",
     "output_type": "stream",
     "text": [
      "Loss:\n",
      " 0.6934748888015747\n",
      "Accuracy:\n",
      " 0.5\n",
      "\n",
      "Prediction:\n",
      " [[[0.48190063]\n",
      "  [0.48190063]]\n",
      "\n",
      " [[0.48190063]\n",
      "  [0.5003518 ]]\n",
      "\n",
      " [[0.5003518 ]\n",
      "  [0.48190063]]\n",
      "\n",
      " [[0.5003518 ]\n",
      "  [0.5003518 ]]]\n",
      "\n",
      "Classes:\n",
      " [[0]\n",
      " [1]\n",
      " [0]\n",
      " [1]]\n"
     ]
    }
   ],
   "source": [
    "print(\"Loss:\\n\", hist.history['loss'][-1])\n",
    "print(\"Accuracy:\\n\", hist.history['accuracy'][-1])\n",
    "print(\"\\nPrediction:\\n\",model.predict(x))\n",
    "print(\"\\nClasses:\\n\",model.predict_classes(x)[:,1])"
   ]
  },
  {
   "cell_type": "code",
   "execution_count": null,
   "metadata": {},
   "outputs": [],
   "source": []
  }
 ],
 "metadata": {
  "kernelspec": {
   "display_name": "Python 3",
   "language": "python",
   "name": "python3"
  },
  "language_info": {
   "codemirror_mode": {
    "name": "ipython",
    "version": 3
   },
   "file_extension": ".py",
   "mimetype": "text/x-python",
   "name": "python",
   "nbconvert_exporter": "python",
   "pygments_lexer": "ipython3",
   "version": "3.6.9"
  }
 },
 "nbformat": 4,
 "nbformat_minor": 4
}
