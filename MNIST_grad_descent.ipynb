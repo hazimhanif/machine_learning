{
 "cells": [
  {
   "cell_type": "markdown",
   "metadata": {},
   "source": [
    "# Gradient Descent with MNIST dataset\n",
    "\n",
    "* Multiple input\n",
    "* Multiple output\n",
    "* 0 Hidden layer"
   ]
  },
  {
   "cell_type": "code",
   "execution_count": 26,
   "metadata": {},
   "outputs": [],
   "source": [
    "## Preprocessing of the MNIST data\n",
    "import numpy as np\n",
    "from tensorflow.keras.datasets import mnist\n",
    "\n",
    "(x_train, y_train), (x_test, y_test) = mnist.load_data()\n",
    "\n",
    "images = x_train[0:1000]\n",
    "labels = y_train[0:1000]"
   ]
  },
  {
   "cell_type": "code",
   "execution_count": 51,
   "metadata": {},
   "outputs": [],
   "source": [
    "def neural_network(inputs,weights):\n",
    "    prediction = np.dot(inputs.flatten(),weights.T)\n",
    "    return(prediction)"
   ]
  },
  {
   "cell_type": "code",
   "execution_count": 58,
   "metadata": {},
   "outputs": [],
   "source": [
    "def grad_descent(inputs,weights,error,alpha):\n",
    "    new_weight = []\n",
    "    for i in range(len(error)):\n",
    "        weight_delta = np.dot(inputs.flatten(),error[i])\n",
    "        new_weight.append(np.subtract(weights[i],(weight_delta*alpha)))\n",
    "    return(new_weight)"
   ]
  },
  {
   "cell_type": "code",
   "execution_count": 65,
   "metadata": {},
   "outputs": [],
   "source": [
    "## 10 classes for outputs (row)\n",
    "## 784 pixels for inputs (columns)\n",
    "\n",
    "weights = np.random.uniform(-0.1,1,size=(10,784))"
   ]
  },
  {
   "cell_type": "code",
   "execution_count": null,
   "metadata": {},
   "outputs": [],
   "source": [
    "alpha = 0.1\n",
    "updated_weights = weights\n",
    "\n",
    "for epoch in range(0,10):\n",
    "    for row in range(len(images)):\n",
    "        input = images[row]\n",
    "        output = labels[row]\n",
    "        pred = neural_network(input,weights)\n",
    "        pred[output] = pred[output]-output\n",
    "        erorr_delta = pred\n",
    "        updated_weights = grad_descent(input,weights,erorr_delta,alpha)\n",
    "        print(\"The pred: \",pred[output],\" The label: \",output)\n",
    "        #print(erorr_delta)"
   ]
  },
  {
   "cell_type": "code",
   "execution_count": null,
   "metadata": {},
   "outputs": [],
   "source": []
  }
 ],
 "metadata": {
  "kernelspec": {
   "display_name": "Python 3",
   "language": "python",
   "name": "python3"
  },
  "language_info": {
   "codemirror_mode": {
    "name": "ipython",
    "version": 3
   },
   "file_extension": ".py",
   "mimetype": "text/x-python",
   "name": "python",
   "nbconvert_exporter": "python",
   "pygments_lexer": "ipython3",
   "version": "3.7.4"
  }
 },
 "nbformat": 4,
 "nbformat_minor": 4
}
